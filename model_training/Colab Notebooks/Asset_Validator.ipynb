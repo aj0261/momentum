{
  "nbformat": 4,
  "nbformat_minor": 0,
  "metadata": {
    "colab": {
      "provenance": []
    },
    "kernelspec": {
      "name": "python3",
      "display_name": "Python 3"
    },
    "language_info": {
      "name": "python"
    }
  },
  "cells": [
    {
      "cell_type": "code",
      "source": [
        "# -*- coding: utf-8 -*-\n",
        "\"\"\"\n",
        "Colab Asset Validator\n",
        "\n",
        "This notebook validates the key assets (.keras, .json, .csv) for the federated\n",
        "learning server in a clean Colab environment. It serves as the ultimate\n",
        "\"source of truth\" for the model's benchmark performance.\n",
        "\"\"\"\n",
        "\n",
        "# Install necessary packages quietly\n",
        "!pip install joblib -q\n",
        "\n",
        "import numpy as np\n",
        "import pandas as pd\n",
        "from sklearn.preprocessing import LabelEncoder, StandardScaler\n",
        "from sklearn.model_selection import train_test_split\n",
        "from sklearn.metrics import classification_report, accuracy_score\n",
        "import tensorflow as tf\n",
        "import json\n",
        "from google.colab import drive\n",
        "from pathlib import Path\n",
        "\n",
        "# --- Mount Google Drive ---\n",
        "print(\"--> Mounting Google Drive...\")\n",
        "drive.mount('/content/drive')\n",
        "\n",
        "# --- Configuration: Point to your files in Google Drive ---\n",
        "# IMPORTANT: Adjust this base path to match YOUR Google Drive structure\n",
        "# This should point to the folder containing your 'data' and 'model' subfolders.\n",
        "# For example, if your folder is MyDrive/FL_Project/, set this path.\n",
        "BASE_DRIVE_PATH = Path('/content/drive/MyDrive/Colab_HAR_Project/') #<-- CHANGE THIS\n",
        "\n",
        "# --- Define Paths to Assets ---\n",
        "DATA_DIR = BASE_DRIVE_PATH / 'data'\n",
        "MODEL_DIR = BASE_DRIVE_PATH / 'results/TCN_Results_v2_with_Assets'\n",
        "\n",
        "# Source files\n",
        "INPUT_CSV_1 = DATA_DIR / 'resampled_normalized_phone_data.csv'\n",
        "INPUT_CSV_2 = DATA_DIR / 'combined_collected_data.csv'\n",
        "SCALER_PATH = MODEL_DIR / 'tcn_v2_ABCDE_scaler.json'\n",
        "MODEL_PATH = MODEL_DIR / 'tcn_v2_ABCDE_har_model.keras'\n",
        "\n",
        "# Parameters for consistency\n",
        "WINDOW_SIZE = 60\n",
        "STRIDE = 15\n",
        "ALL_ACTIVITIES_TO_KEEP = sorted(['A', 'B', 'C', 'D', 'E'])\n",
        "\n",
        "print(\"\\n--> Configuration Complete. Paths set.\")"
      ],
      "metadata": {
        "colab": {
          "base_uri": "https://localhost:8080/"
        },
        "id": "Hz69KjeI831f",
        "outputId": "832521c3-ec78-4113-d48a-e9388a1e77d3"
      },
      "execution_count": null,
      "outputs": [
        {
          "output_type": "stream",
          "name": "stdout",
          "text": [
            "--> Mounting Google Drive...\n",
            "Drive already mounted at /content/drive; to attempt to forcibly remount, call drive.mount(\"/content/drive\", force_remount=True).\n",
            "\n",
            "--> Configuration Complete. Paths set.\n"
          ]
        }
      ]
    },
    {
      "cell_type": "code",
      "execution_count": null,
      "metadata": {
        "colab": {
          "base_uri": "https://localhost:8080/"
        },
        "id": "0YB4te4q8xsU",
        "outputId": "7d84f31d-2d8a-458a-c0ad-9eb1efd522b9"
      },
      "outputs": [
        {
          "output_type": "stream",
          "name": "stdout",
          "text": [
            "--> Loading the definitive, pre-saved test set...\n",
            "    - Definitive test set loaded successfully.\n",
            "    - Shape of X_test_scaled: (14021, 60, 6)\n"
          ]
        }
      ],
      "source": [
        "# REVISED CELL 2 for Colab_Asset_Validator.ipynb\n",
        "\n",
        "print(\"--> Loading the definitive, pre-saved test set...\")\n",
        "try:\n",
        "    test_set_dir = BASE_DRIVE_PATH / 'results' / 'TCN_Results_v2_with_Assets' / 'definitive_test_set'\n",
        "    X_test_scaled = np.load(test_set_dir / 'X_test_scaled.npy')\n",
        "    y_test = np.load(test_set_dir / 'y_test.npy')\n",
        "    print(\"    - Definitive test set loaded successfully.\")\n",
        "    print(f\"    - Shape of X_test_scaled: {X_test_scaled.shape}\")\n",
        "except Exception as e:\n",
        "    print(f\"FATAL ERROR: Could not load the definitive test set .npy files from {test_set_dir}\")\n",
        "    print(f\"    - Please ensure you have run the modified training notebook first.\")\n",
        "    raise"
      ]
    },
    {
      "cell_type": "code",
      "source": [
        "# REVISED CELL 3 for Colab_Asset_Validator.ipynb\n",
        "\n",
        "print(\"--> Loading Keras model from Google Drive...\")\n",
        "# ... (model loading code is the same) ...\n",
        "model = tf.keras.models.load_model(MODEL_PATH)\n",
        "\n",
        "print(\"\\n--> Evaluating model on the definitive test set...\")\n",
        "loss, accuracy = model.evaluate(X_test_scaled, y_test, verbose=0)\n",
        "\n",
        "# --- Final Report ---\n",
        "print(\"\\n\" + \"=\"*50)\n",
        "print(\"       COLAB ASSET VALIDATION REPORT\")\n",
        "print(\"=\"*50)\n",
        "print(f\"Benchmark Accuracy: {accuracy:.4f} ({accuracy*100:.2f}%)\")\n",
        "print(\"=\"*50)\n",
        "if accuracy > 0.98:\n",
        "    print(\"\\nVERDICT: SUCCESS! The assets and the definitive test set are consistent.\")\n",
        "else:\n",
        "    print(\"\\nVERDICT: FAILURE! Something is still wrong.\")"
      ],
      "metadata": {
        "colab": {
          "base_uri": "https://localhost:8080/"
        },
        "id": "UL21UPb59ruJ",
        "outputId": "41ce337b-86be-491f-f464-a85fe7c1e9b8"
      },
      "execution_count": null,
      "outputs": [
        {
          "output_type": "stream",
          "name": "stdout",
          "text": [
            "--> Loading Keras model from Google Drive...\n",
            "\n",
            "--> Evaluating model on the definitive test set...\n",
            "\n",
            "==================================================\n",
            "       COLAB ASSET VALIDATION REPORT\n",
            "==================================================\n",
            "Benchmark Accuracy: 0.9965 (99.65%)\n",
            "==================================================\n",
            "\n",
            "VERDICT: SUCCESS! The assets and the definitive test set are consistent.\n"
          ]
        }
      ]
    }
  ]
}